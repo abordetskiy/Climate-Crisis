{
 "cells": [
  {
   "cell_type": "code",
   "execution_count": 51,
   "metadata": {},
   "outputs": [
    {
     "output_type": "execute_result",
     "data": {
      "text/plain": [
       "  agency_cd  site_no  parameter_cd   ts_id  year_nu  month_nu   mean_va\n",
       "0      USGS  7227900         62614  131778     2000        10  2899.728\n",
       "1      USGS  7227900         62614  131778     2000        11  2900.714\n",
       "2      USGS  7227900         62614  131778     2000        12  2900.287\n",
       "3      USGS  7227900         62614  131778     2001         1  2900.105\n",
       "4      USGS  7227900         62614  131778     2001         2  2900.254"
      ],
      "text/html": "<div>\n<style scoped>\n    .dataframe tbody tr th:only-of-type {\n        vertical-align: middle;\n    }\n\n    .dataframe tbody tr th {\n        vertical-align: top;\n    }\n\n    .dataframe thead th {\n        text-align: right;\n    }\n</style>\n<table border=\"1\" class=\"dataframe\">\n  <thead>\n    <tr style=\"text-align: right;\">\n      <th></th>\n      <th>agency_cd</th>\n      <th>site_no</th>\n      <th>parameter_cd</th>\n      <th>ts_id</th>\n      <th>year_nu</th>\n      <th>month_nu</th>\n      <th>mean_va</th>\n    </tr>\n  </thead>\n  <tbody>\n    <tr>\n      <th>0</th>\n      <td>USGS</td>\n      <td>7227900</td>\n      <td>62614</td>\n      <td>131778</td>\n      <td>2000</td>\n      <td>10</td>\n      <td>2899.728</td>\n    </tr>\n    <tr>\n      <th>1</th>\n      <td>USGS</td>\n      <td>7227900</td>\n      <td>62614</td>\n      <td>131778</td>\n      <td>2000</td>\n      <td>11</td>\n      <td>2900.714</td>\n    </tr>\n    <tr>\n      <th>2</th>\n      <td>USGS</td>\n      <td>7227900</td>\n      <td>62614</td>\n      <td>131778</td>\n      <td>2000</td>\n      <td>12</td>\n      <td>2900.287</td>\n    </tr>\n    <tr>\n      <th>3</th>\n      <td>USGS</td>\n      <td>7227900</td>\n      <td>62614</td>\n      <td>131778</td>\n      <td>2001</td>\n      <td>1</td>\n      <td>2900.105</td>\n    </tr>\n    <tr>\n      <th>4</th>\n      <td>USGS</td>\n      <td>7227900</td>\n      <td>62614</td>\n      <td>131778</td>\n      <td>2001</td>\n      <td>2</td>\n      <td>2900.254</td>\n    </tr>\n  </tbody>\n</table>\n</div>"
     },
     "metadata": {},
     "execution_count": 51
    }
   ],
   "source": [
    "# Import Dependencies\n",
    "import csv\n",
    "import pandas as pd\n",
    "\n",
    "# Pull in Lake CSV\n",
    "Lakes_CSV = pd.read_csv(\"../csv data/Rivers and Lakes/Lakes.csv\")\n",
    "Lakes_CSV.head()"
   ]
  },
  {
   "cell_type": "code",
   "execution_count": 52,
   "metadata": {},
   "outputs": [
    {
     "output_type": "execute_result",
     "data": {
      "text/plain": [
       "  agency_cd  site_no  parameter_cd   ts_id  year_nu  month_nu  mean_va\n",
       "0      USGS  7227500            65  131762     1997        10    2.513\n",
       "1      USGS  7227500            65  131762     1997        11    2.384\n",
       "2      USGS  7227500            65  131762     1997        12    2.441\n",
       "3      USGS  7227500            65  131762     1998         1    2.583\n",
       "4      USGS  7227500            65  131762     1998         2    2.488"
      ],
      "text/html": "<div>\n<style scoped>\n    .dataframe tbody tr th:only-of-type {\n        vertical-align: middle;\n    }\n\n    .dataframe tbody tr th {\n        vertical-align: top;\n    }\n\n    .dataframe thead th {\n        text-align: right;\n    }\n</style>\n<table border=\"1\" class=\"dataframe\">\n  <thead>\n    <tr style=\"text-align: right;\">\n      <th></th>\n      <th>agency_cd</th>\n      <th>site_no</th>\n      <th>parameter_cd</th>\n      <th>ts_id</th>\n      <th>year_nu</th>\n      <th>month_nu</th>\n      <th>mean_va</th>\n    </tr>\n  </thead>\n  <tbody>\n    <tr>\n      <th>0</th>\n      <td>USGS</td>\n      <td>7227500</td>\n      <td>65</td>\n      <td>131762</td>\n      <td>1997</td>\n      <td>10</td>\n      <td>2.513</td>\n    </tr>\n    <tr>\n      <th>1</th>\n      <td>USGS</td>\n      <td>7227500</td>\n      <td>65</td>\n      <td>131762</td>\n      <td>1997</td>\n      <td>11</td>\n      <td>2.384</td>\n    </tr>\n    <tr>\n      <th>2</th>\n      <td>USGS</td>\n      <td>7227500</td>\n      <td>65</td>\n      <td>131762</td>\n      <td>1997</td>\n      <td>12</td>\n      <td>2.441</td>\n    </tr>\n    <tr>\n      <th>3</th>\n      <td>USGS</td>\n      <td>7227500</td>\n      <td>65</td>\n      <td>131762</td>\n      <td>1998</td>\n      <td>1</td>\n      <td>2.583</td>\n    </tr>\n    <tr>\n      <th>4</th>\n      <td>USGS</td>\n      <td>7227500</td>\n      <td>65</td>\n      <td>131762</td>\n      <td>1998</td>\n      <td>2</td>\n      <td>2.488</td>\n    </tr>\n  </tbody>\n</table>\n</div>"
     },
     "metadata": {},
     "execution_count": 52
    }
   ],
   "source": [
    "# Pull in Rivers CSV\n",
    "Rivers_CSV = pd.read_csv(\"../csv data/Rivers and Lakes/Rivers.csv\")\n",
    "Rivers_CSV.head()"
   ]
  },
  {
   "cell_type": "code",
   "execution_count": 53,
   "metadata": {},
   "outputs": [
    {
     "output_type": "execute_result",
     "data": {
      "text/plain": [
       "  agency_cd  site_no                         site_loc\n",
       "0      USGS  7227900       Lk Meredith nr Sanford, TX\n",
       "1      USGS  8017400   Lk Tawakoni nr Wills Point, TX\n",
       "2      USGS  8018800       Lake Fk Res nr Quitman, TX\n",
       "3      USGS  8025350  Toledo Bd Res nr Burkeville, TX\n",
       "4      USGS  8031400    Lk Palestine nr Frankston, TX"
      ],
      "text/html": "<div>\n<style scoped>\n    .dataframe tbody tr th:only-of-type {\n        vertical-align: middle;\n    }\n\n    .dataframe tbody tr th {\n        vertical-align: top;\n    }\n\n    .dataframe thead th {\n        text-align: right;\n    }\n</style>\n<table border=\"1\" class=\"dataframe\">\n  <thead>\n    <tr style=\"text-align: right;\">\n      <th></th>\n      <th>agency_cd</th>\n      <th>site_no</th>\n      <th>site_loc</th>\n    </tr>\n  </thead>\n  <tbody>\n    <tr>\n      <th>0</th>\n      <td>USGS</td>\n      <td>7227900</td>\n      <td>Lk Meredith nr Sanford, TX</td>\n    </tr>\n    <tr>\n      <th>1</th>\n      <td>USGS</td>\n      <td>8017400</td>\n      <td>Lk Tawakoni nr Wills Point, TX</td>\n    </tr>\n    <tr>\n      <th>2</th>\n      <td>USGS</td>\n      <td>8018800</td>\n      <td>Lake Fk Res nr Quitman, TX</td>\n    </tr>\n    <tr>\n      <th>3</th>\n      <td>USGS</td>\n      <td>8025350</td>\n      <td>Toledo Bd Res nr Burkeville, TX</td>\n    </tr>\n    <tr>\n      <th>4</th>\n      <td>USGS</td>\n      <td>8031400</td>\n      <td>Lk Palestine nr Frankston, TX</td>\n    </tr>\n  </tbody>\n</table>\n</div>"
     },
     "metadata": {},
     "execution_count": 53
    }
   ],
   "source": [
    "# Pull in Lakes Site Joiner CSV\n",
    "Lakes_Site_Joiner_CSV = pd.read_csv(\"../csv data/Rivers and Lakes/Lakes Site Joiner.csv\")\n",
    "Lakes_Site_Joiner_CSV.head()"
   ]
  },
  {
   "cell_type": "code",
   "execution_count": 54,
   "metadata": {},
   "outputs": [
    {
     "output_type": "execute_result",
     "data": {
      "text/plain": [
       "  agency_cd  site_no                             site_loc\n",
       "0      USGS  7227500          Canadian Rv nr Amarillo, TX\n",
       "1      USGS  7228000          Canadian Rv nr Canadian, TX\n",
       "2      USGS  7297910  Pr Dog Twn Fk Red Rv nr Wayside, TX\n",
       "3      USGS  8017410         Sabine Rv nr Wills Point, TX\n",
       "4      USGS  8030500              Sabine Rv nr Ruliff, TX"
      ],
      "text/html": "<div>\n<style scoped>\n    .dataframe tbody tr th:only-of-type {\n        vertical-align: middle;\n    }\n\n    .dataframe tbody tr th {\n        vertical-align: top;\n    }\n\n    .dataframe thead th {\n        text-align: right;\n    }\n</style>\n<table border=\"1\" class=\"dataframe\">\n  <thead>\n    <tr style=\"text-align: right;\">\n      <th></th>\n      <th>agency_cd</th>\n      <th>site_no</th>\n      <th>site_loc</th>\n    </tr>\n  </thead>\n  <tbody>\n    <tr>\n      <th>0</th>\n      <td>USGS</td>\n      <td>7227500</td>\n      <td>Canadian Rv nr Amarillo, TX</td>\n    </tr>\n    <tr>\n      <th>1</th>\n      <td>USGS</td>\n      <td>7228000</td>\n      <td>Canadian Rv nr Canadian, TX</td>\n    </tr>\n    <tr>\n      <th>2</th>\n      <td>USGS</td>\n      <td>7297910</td>\n      <td>Pr Dog Twn Fk Red Rv nr Wayside, TX</td>\n    </tr>\n    <tr>\n      <th>3</th>\n      <td>USGS</td>\n      <td>8017410</td>\n      <td>Sabine Rv nr Wills Point, TX</td>\n    </tr>\n    <tr>\n      <th>4</th>\n      <td>USGS</td>\n      <td>8030500</td>\n      <td>Sabine Rv nr Ruliff, TX</td>\n    </tr>\n  </tbody>\n</table>\n</div>"
     },
     "metadata": {},
     "execution_count": 54
    }
   ],
   "source": [
    "# Pull in Rivers Site Joiner CSV\n",
    "Rivers_Site_Joiner_CSV = pd.read_csv(\"../csv data/Rivers and Lakes/Rivers Site Joiner.csv\")\n",
    "Rivers_Site_Joiner_CSV.head()"
   ]
  },
  {
   "cell_type": "code",
   "execution_count": 55,
   "metadata": {},
   "outputs": [
    {
     "output_type": "execute_result",
     "data": {
      "text/plain": [
       "site_no\n",
       "7227900    2000\n",
       "8017400    1995\n",
       "8018800    1995\n",
       "8025350    1999\n",
       "8031400    1999\n",
       "8039300    2000\n",
       "8052800    1997\n",
       "8060500    2000\n",
       "8061550    2000\n",
       "8063010    2000\n",
       "8064550    2000\n",
       "8066190    1999\n",
       "8067600    1999\n",
       "8088500    1988\n",
       "8092500    2000\n",
       "8102000    2000\n",
       "8136600    2000\n",
       "8167700    1999\n",
       "8206900    1999\n",
       "Name: year_nu, dtype: int64"
      ]
     },
     "metadata": {},
     "execution_count": 55
    }
   ],
   "source": [
    "# Remove unnecessary fields in Lake CSV\n",
    "Clean_Lakes_CSV = Lakes_CSV[[\"site_no\", \"year_nu\", \"month_nu\", \"mean_va\"]]\n",
    "# Create Lake Groupby Object\n",
    "Lakes_GB = Lakes_CSV.groupby(Lakes_CSV[\"site_no\"])\n",
    "# Check earliest year for each site number\n",
    "Lakes_test_df = Lakes_GB[\"year_nu\"].min()\n",
    "Lakes_test_df"
   ]
  },
  {
   "cell_type": "code",
   "execution_count": 56,
   "metadata": {},
   "outputs": [
    {
     "output_type": "execute_result",
     "data": {
      "text/plain": [
       "site_no\n",
       "7227500    1938\n",
       "7228000    1964\n",
       "7297910    1967\n",
       "8017410    1970\n",
       "8030500    1960\n",
       "8032000    1961\n",
       "8057410    1956\n",
       "8067000    1938\n",
       "8070000    1939\n",
       "8070200    1984\n",
       "8088000    1961\n",
       "8116650    1967\n",
       "8117995    1988\n",
       "8164000    1938\n",
       "8165300    1989\n",
       "8176500    1934\n",
       "8178000    1926\n",
       "8188500    1924\n",
       "8190000    1923\n",
       "8211200    1966\n",
       "8412500    1937\n",
       "8446500    1939\n",
       "Name: year_nu, dtype: int64"
      ]
     },
     "metadata": {},
     "execution_count": 56
    }
   ],
   "source": [
    "# Remove unnecessary fields in Rivers CSV\n",
    "Clean_Rivers_CSV = Rivers_CSV[[\"site_no\", \"parameter_cd\", \"year_nu\", \"month_nu\", \"mean_va\"]]\n",
    "# Create Rivers Groupby Object\n",
    "Rivers_GB = Clean_Rivers_CSV.groupby(Rivers_CSV[\"site_no\"])\n",
    "# Check earliest year for each site number\n",
    "Rivers_test_df = Rivers_GB[\"year_nu\"].min()\n",
    "Rivers_test_df"
   ]
  },
  {
   "cell_type": "code",
   "execution_count": null,
   "metadata": {},
   "outputs": [],
   "source": []
  }
 ],
 "metadata": {
  "kernelspec": {
   "display_name": "Python 3",
   "language": "python",
   "name": "python3"
  },
  "language_info": {
   "codemirror_mode": {
    "name": "ipython",
    "version": 3
   },
   "file_extension": ".py",
   "mimetype": "text/x-python",
   "name": "python",
   "nbconvert_exporter": "python",
   "pygments_lexer": "ipython3",
   "version": "3.7.6-final"
  }
 },
 "nbformat": 4,
 "nbformat_minor": 4
}