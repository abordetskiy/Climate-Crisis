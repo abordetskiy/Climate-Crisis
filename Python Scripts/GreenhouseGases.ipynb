{
 "cells": [
  {
   "cell_type": "code",
   "execution_count": 1,
   "metadata": {},
   "outputs": [],
   "source": [
    "# Data of Greenhouse Gases was collected using a glass flask per month, beginning in the early 1970s. Some of the datasets used only range from 1998 - 2005.\n",
    "# The following is the average air samples of each greenhouse gas. We can see that Methane greatly outweighs the others. "
   ]
  },
  {
   "cell_type": "code",
   "execution_count": 2,
   "metadata": {},
   "outputs": [],
   "source": [
    "# Dependencies and Setup\n",
    "import matplotlib.pyplot as plt\n",
    "import pandas as pd\n",
    "import scipy.stats as st\n",
    "import os\n",
    "import numpy as np\n",
    "import glob\n",
    "directory = 'Gases'"
   ]
  },
  {
   "cell_type": "code",
   "execution_count": 3,
   "metadata": {},
   "outputs": [],
   "source": [
    "extension = 'csv'\n",
    "all_filenames = [i for i in glob.glob('*.{}'.format(extension))]"
   ]
  },
  {
   "cell_type": "code",
   "execution_count": 4,
   "metadata": {},
   "outputs": [],
   "source": [
    "#combine all files in the list\n",
    "combined_csv = pd.concat([pd.read_csv(f) for f in all_filenames ])\n",
    "#export to csv\n",
    "combined_csv.to_csv( \"combined_csv.csv\", index=False, encoding='utf-8-sig')"
   ]
  },
  {
   "cell_type": "code",
   "execution_count": 5,
   "metadata": {},
   "outputs": [
    {
     "data": {
      "text/plain": [
       "10"
      ]
     },
     "execution_count": 5,
     "metadata": {},
     "output_type": "execute_result"
    }
   ],
   "source": [
    "# Check Data Name Count \n",
    "data_names = len(combined_csv[\"gas_name\"].unique())\n",
    "data_names"
   ]
  },
  {
   "cell_type": "code",
   "execution_count": 6,
   "metadata": {},
   "outputs": [
    {
     "data": {
      "text/html": [
       "<div>\n",
       "<style scoped>\n",
       "    .dataframe tbody tr th:only-of-type {\n",
       "        vertical-align: middle;\n",
       "    }\n",
       "\n",
       "    .dataframe tbody tr th {\n",
       "        vertical-align: top;\n",
       "    }\n",
       "\n",
       "    .dataframe thead th {\n",
       "        text-align: right;\n",
       "    }\n",
       "</style>\n",
       "<table border=\"1\" class=\"dataframe\">\n",
       "  <thead>\n",
       "    <tr style=\"text-align: right;\">\n",
       "      <th></th>\n",
       "      <th>Mean</th>\n",
       "      <th>Median</th>\n",
       "      <th>Variance</th>\n",
       "      <th>Standard Deviation</th>\n",
       "      <th>SEM</th>\n",
       "    </tr>\n",
       "    <tr>\n",
       "      <th>gas_name</th>\n",
       "      <th></th>\n",
       "      <th></th>\n",
       "      <th></th>\n",
       "      <th></th>\n",
       "      <th></th>\n",
       "    </tr>\n",
       "  </thead>\n",
       "  <tbody>\n",
       "    <tr>\n",
       "      <th>Carbon D(C13/C12)</th>\n",
       "      <td>-8.28</td>\n",
       "      <td>-8.34</td>\n",
       "      <td>0.11</td>\n",
       "      <td>0.34</td>\n",
       "      <td>0.02</td>\n",
       "    </tr>\n",
       "    <tr>\n",
       "      <th>Carbon D(O18/O16)</th>\n",
       "      <td>-0.66</td>\n",
       "      <td>-0.59</td>\n",
       "      <td>0.16</td>\n",
       "      <td>0.41</td>\n",
       "      <td>0.02</td>\n",
       "    </tr>\n",
       "    <tr>\n",
       "      <th>Carbon Dioxide</th>\n",
       "      <td>365.59</td>\n",
       "      <td>362.72</td>\n",
       "      <td>626.64</td>\n",
       "      <td>25.03</td>\n",
       "      <td>1.04</td>\n",
       "    </tr>\n",
       "    <tr>\n",
       "      <th>Carbon Monoxide</th>\n",
       "      <td>131.96</td>\n",
       "      <td>129.82</td>\n",
       "      <td>954.66</td>\n",
       "      <td>30.90</td>\n",
       "      <td>1.61</td>\n",
       "    </tr>\n",
       "    <tr>\n",
       "      <th>Methane</th>\n",
       "      <td>1858.33</td>\n",
       "      <td>1860.79</td>\n",
       "      <td>3362.24</td>\n",
       "      <td>57.98</td>\n",
       "      <td>2.76</td>\n",
       "    </tr>\n",
       "    <tr>\n",
       "      <th>Methane(C13/C12)</th>\n",
       "      <td>-47.52</td>\n",
       "      <td>-47.51</td>\n",
       "      <td>0.04</td>\n",
       "      <td>0.20</td>\n",
       "      <td>0.01</td>\n",
       "    </tr>\n",
       "    <tr>\n",
       "      <th>Molecular Hydrogen</th>\n",
       "      <td>495.22</td>\n",
       "      <td>497.28</td>\n",
       "      <td>623.95</td>\n",
       "      <td>24.98</td>\n",
       "      <td>1.78</td>\n",
       "    </tr>\n",
       "    <tr>\n",
       "      <th>Nitrous Oxide</th>\n",
       "      <td>322.33</td>\n",
       "      <td>322.14</td>\n",
       "      <td>33.02</td>\n",
       "      <td>5.75</td>\n",
       "      <td>0.35</td>\n",
       "    </tr>\n",
       "    <tr>\n",
       "      <th>Sulfur Hexafluoride</th>\n",
       "      <td>6.88</td>\n",
       "      <td>6.71</td>\n",
       "      <td>3.28</td>\n",
       "      <td>1.81</td>\n",
       "      <td>0.11</td>\n",
       "    </tr>\n",
       "  </tbody>\n",
       "</table>\n",
       "</div>"
      ],
      "text/plain": [
       "                         Mean   Median  Variance  Standard Deviation   SEM\n",
       "gas_name                                                                  \n",
       "Carbon D(C13/C12)       -8.28    -8.34      0.11                0.34  0.02\n",
       "Carbon D(O18/O16)       -0.66    -0.59      0.16                0.41  0.02\n",
       "Carbon Dioxide         365.59   362.72    626.64               25.03  1.04\n",
       "Carbon Monoxide        131.96   129.82    954.66               30.90  1.61\n",
       "Methane               1858.33  1860.79   3362.24               57.98  2.76\n",
       "Methane(C13/C12)       -47.52   -47.51      0.04                0.20  0.01\n",
       "Molecular Hydrogen     495.22   497.28    623.95               24.98  1.78\n",
       "Nitrous Oxide          322.33   322.14     33.02                5.75  0.35\n",
       "Sulfur Hexafluoride      6.88     6.71      3.28                1.81  0.11"
      ]
     },
     "execution_count": 6,
     "metadata": {},
     "output_type": "execute_result"
    }
   ],
   "source": [
    "# Summary Statistics \n",
    "mean = combined_csv.groupby([\"gas_name\"]).mean()[\"gas_average\"]\n",
    "median = combined_csv.groupby([\"gas_name\"]).median()[\"gas_average\"]\n",
    "variance = combined_csv.groupby([\"gas_name\"]).var()[\"gas_average\"]\n",
    "STD = combined_csv.groupby([\"gas_name\"]).std()[\"gas_average\"]\n",
    "SEM = combined_csv.groupby([\"gas_name\"]).sem()[\"gas_average\"]\n",
    "\n",
    "summary_stat = pd.DataFrame({\"Mean\":mean, \"Median\":median, \"Variance\":variance, \"Standard Deviation\":STD, \"SEM\":SEM})\n",
    "summary_stat = summary_stat.round(2)\n",
    "summary_stat"
   ]
  },
  {
   "cell_type": "code",
   "execution_count": 7,
   "metadata": {},
   "outputs": [
    {
     "data": {
      "text/plain": [
       "<matplotlib.axes._subplots.AxesSubplot at 0x27f3a3b4148>"
      ]
     },
     "execution_count": 7,
     "metadata": {},
     "output_type": "execute_result"
    },
    {
     "data": {
      "image/png": "[encoded data removed]",
      "text/plain": [
       "<Figure size 432x288 with 1 Axes>"
      ]
     },
     "metadata": {
      "needs_background": "light"
     },
     "output_type": "display_data"
    }
   ],
   "source": [
    "# Bar Chart \n",
    "gas_chart = mean\n",
    "x_axis = gas_chart.index\n",
    "y_axis = gas_chart.values\n",
    "\n",
    "gas_chart.plot(kind=\"bar\", color=\"green\", title = \"Averages of Air Samples Collected for each Greenhouse Gas\")"
   ]
  },
  {
   "cell_type": "code",
   "execution_count": null,
   "metadata": {},
   "outputs": [],
   "source": []
  }
 ],
 "metadata": {
  "kernelspec": {
   "display_name": "Python 3",
   "language": "python",
   "name": "python3"
  },
  "language_info": {
   "codemirror_mode": {
    "name": "ipython",
    "version": 3
   },
   "file_extension": ".py",
   "mimetype": "text/x-python",
   "name": "python",
   "nbconvert_exporter": "python",
   "pygments_lexer": "ipython3",
   "version": "3.7.6"
  }
 },
 "nbformat": 4,
 "nbformat_minor": 4
}
